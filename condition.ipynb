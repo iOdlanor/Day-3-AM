{
 "cells": [
  {
   "cell_type": "code",
   "execution_count": 1,
   "metadata": {},
   "outputs": [
    {
     "name": "stdout",
     "output_type": "stream",
     "text": [
      "angka yang anda masukkan adalah 10\n"
     ]
    }
   ],
   "source": [
    "x=10\n",
    "if x == 10:\n",
    "    print('angka yang anda masukkan adalah 10')\n",
    "x==10"
   ]
  },
  {
   "cell_type": "code",
   "execution_count": null,
   "metadata": {},
   "outputs": [],
   "source": []
  }
 ],
 "metadata": {
  "kernelspec": {
   "display_name": "Python 3.10.5 64-bit",
   "language": "python",
   "name": "python3"
  },
  "language_info": {
   "codemirror_mode": {
    "name": "ipython",
    "version": 3
   },
   "file_extension": ".py",
   "mimetype": "text/x-python",
   "name": "python",
   "nbconvert_exporter": "python",
   "pygments_lexer": "ipython3",
   "version": "3.10.5"
  },
  "orig_nbformat": 4,
  "vscode": {
   "interpreter": {
    "hash": "58cf9e7d7d5f82f5e504d33a7477d8f1af104107c35b27fedcee268f33f69822"
   }
  }
 },
 "nbformat": 4,
 "nbformat_minor": 2
}
